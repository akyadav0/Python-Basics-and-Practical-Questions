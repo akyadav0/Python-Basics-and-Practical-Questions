{
  "nbformat": 4,
  "nbformat_minor": 0,
  "metadata": {
    "colab": {
      "provenance": []
    },
    "kernelspec": {
      "name": "python3",
      "display_name": "Python 3"
    },
    "language_info": {
      "name": "python"
    }
  },
  "cells": [
    {
      "cell_type": "markdown",
      "source": [
        "# Python Basics Questions\n"
      ],
      "metadata": {
        "id": "TofPt0Jj0nSf"
      }
    },
    {
      "cell_type": "markdown",
      "source": [
        " 1.  What is Python, and why is it popular?\n",
        " - Python is a high-level, interpreted programming language known for its simplicity and readability. It is popular due to its vast library support, versatility, and ease of use in fields like web development, data science, machine learning, and automation.\n",
        "\n",
        " 2. What is an interpreter in Python?\n",
        " - An interpreter is a program that executes Python code line by line, converting it into machine-readable instructions.\n",
        "\n",
        " 3. What are pre-defined keywords in Python?\n",
        " - Keywords are reserved words in Python used for specific purposes, such as if, else, for, while, True, False, etc.\n",
        "\n",
        " 4. Can keywords be used as variable names?\n",
        " - No, keywords cannot be used as variable names because they have predefined meanings.\n",
        "\n",
        " 5. What is mutability in Python?\n",
        " - Mutability refers to whether an object can be changed after creation. Mutable objects (e.g., lists) can be modified, while immutable objects (e.g., tuples) cannot.\n",
        "\n",
        " 6. Why are lists mutable but tuples are immutable?\n",
        " - Lists allow changes like adding, removing, or modifying elements, while tuples are designed to remain constant for data integrity and efficiency.\n",
        "\n",
        " 7. What is the difference between == and is operators in Python?\n",
        "\n",
        " - == checks if two values are equal, whereas is checks if two variables refer to the same object in memory.\n",
        "\n",
        " 8. What are logical operators in Python?\n",
        " - Logical operators include and, or, and not, which are used for logical comparisons.\n",
        "\n",
        " 9. What is type casting in Python?\n",
        " - Type casting converts one data type into another (e.g., int to float).\n",
        "\n",
        " 10. What is the difference between implicit and explicit type casting?\n",
        "\n",
        " - Implicit: Done automatically by Python (e.g., int + float results in float).\n",
        " - Explicit: Done manually using functions like int(), float(), etc.\n",
        "\n",
        " 11. What is the purpose of conditional statements in Python?\n",
        " - Conditional statements (if, elif, else) control program flow based on conditions.\n",
        "\n",
        " 12. How does the elif statement work?\n",
        " - The elif statement allows multiple conditional checks after an if statement. It executes the first condition that is True.\n",
        " 13. What is the difference between for and while loops?\n",
        "\n",
        " - For loop: Iterates over a sequence (e.g., list, range).\n",
        "\n",
        " - While loop: Repeats as long as a condition remains True.\n",
        "\n",
        " 14. Describe a scenario where a while loop is more suitable than a for loop.\n",
        " - A while loop is more suitable when you don't know in advance how many times you need to repeat the loop."
      ],
      "metadata": {
        "id": "BK1EJTVo0kTd"
      }
    },
    {
      "cell_type": "markdown",
      "source": [
        "# Practical Questions"
      ],
      "metadata": {
        "id": "jO06El8t54ye"
      }
    },
    {
      "cell_type": "code",
      "source": [
        "# 1. Write a Python program to print \"Hello, World!\"\n",
        "print(\"hello world\")"
      ],
      "metadata": {
        "colab": {
          "base_uri": "https://localhost:8080/"
        },
        "id": "_wEL62yx7WxX",
        "outputId": "ed0351a0-7297-4a31-d96b-16d7c9c9a84a"
      },
      "execution_count": 4,
      "outputs": [
        {
          "output_type": "stream",
          "name": "stdout",
          "text": [
            "hello world\n"
          ]
        }
      ]
    },
    {
      "cell_type": "code",
      "source": [
        "# 2. Write a Python program that displays your name and age\n",
        "name = \"abhishek\"\n",
        "age = \"24\"\n",
        "print(name)\n",
        "print(age)"
      ],
      "metadata": {
        "colab": {
          "base_uri": "https://localhost:8080/"
        },
        "id": "R6A1pt1t6wmJ",
        "outputId": "f595e45d-2737-4223-8ba4-ab652d19eff1"
      },
      "execution_count": 3,
      "outputs": [
        {
          "output_type": "stream",
          "name": "stdout",
          "text": [
            "abhishek\n",
            "24\n"
          ]
        }
      ]
    },
    {
      "cell_type": "code",
      "source": [
        "# 3. Write code to print all the pre-defined keywords in Python using the keyword library.\n",
        "help(\"keywords\")"
      ],
      "metadata": {
        "colab": {
          "base_uri": "https://localhost:8080/"
        },
        "id": "7J5G3DsQ7pb8",
        "outputId": "a2f2a312-f4b7-4f99-f2c7-361b9893d511"
      },
      "execution_count": 12,
      "outputs": [
        {
          "output_type": "stream",
          "name": "stdout",
          "text": [
            "\n",
            "Here is a list of the Python keywords.  Enter any keyword to get more help.\n",
            "\n",
            "False               class               from                or\n",
            "None                continue            global              pass\n",
            "True                def                 if                  raise\n",
            "and                 del                 import              return\n",
            "as                  elif                in                  try\n",
            "assert              else                is                  while\n",
            "async               except              lambda              with\n",
            "await               finally             nonlocal            yield\n",
            "break               for                 not                 \n",
            "\n"
          ]
        }
      ]
    },
    {
      "cell_type": "code",
      "source": [
        "# 4. Write a program that checks if a given word is a Python keyword.\n",
        "import keyword\n",
        "word = \"if\"\n",
        "if keyword.iskeyword(word):\n",
        "    print(f\"{word} is a keyword\")\n",
        "else:\n",
        "    print(f\"{word} is not a keyword\")\n"
      ],
      "metadata": {
        "colab": {
          "base_uri": "https://localhost:8080/"
        },
        "id": "Iv63d-vH_90z",
        "outputId": "1a6a3899-36ab-44aa-ebbe-8fba633c18cf"
      },
      "execution_count": 26,
      "outputs": [
        {
          "output_type": "stream",
          "name": "stdout",
          "text": [
            "if is a keyword\n"
          ]
        }
      ]
    },
    {
      "cell_type": "code",
      "source": [
        " # 5. Create a list and tuple in Python, and demonstrate how attempting to change an element works differently for each.\n",
        "list_cont = [1, 25, 32, 4, 5, 6]\n",
        "list_cont[-1]=100\n",
        "print(list_cont)\n",
        "# tuple_cont = (1, 25, 32, 4, 5, 6)\n",
        "# tuple_cont[-1]=100\n",
        "# print(tuple_cont)\n",
        "# show error"
      ],
      "metadata": {
        "colab": {
          "base_uri": "https://localhost:8080/"
        },
        "id": "JlaydZRXGxG_",
        "outputId": "48895f50-80b8-491f-b310-1fa5b5fd4947"
      },
      "execution_count": 46,
      "outputs": [
        {
          "output_type": "stream",
          "name": "stdout",
          "text": [
            "[1, 25, 32, 4, 5, 100]\n"
          ]
        }
      ]
    },
    {
      "cell_type": "code",
      "source": [
        "# 6. Write a function to demonstrate the behavior of mutable and immutable arguments.\n",
        "def modify_list(lst):\n",
        "    lst.append(4)\n",
        "    print(\"Inside function:\", lst)\n",
        "\n",
        "my_list = [1, 2, 3]\n",
        "modify_list(my_list)\n",
        "print(\"Outside function:\", my_list)\n"
      ],
      "metadata": {
        "colab": {
          "base_uri": "https://localhost:8080/"
        },
        "id": "XK2zKaY0G8Ic",
        "outputId": "2442856f-262e-425e-88f8-ad6350cbcfc1"
      },
      "execution_count": 124,
      "outputs": [
        {
          "output_type": "stream",
          "name": "stdout",
          "text": [
            "Inside function: [1, 2, 3, 4]\n",
            "Outside function: [1, 2, 3, 4]\n"
          ]
        }
      ]
    },
    {
      "cell_type": "code",
      "source": [
        "# 7. Write a function to demonstrate the behavior of mutable and immutable arguments.\n",
        "def modify_list(lst):\n",
        "    lst.append(4)\n",
        "    print(\"Inside function:\", lst)\n",
        "\n",
        "my_list = [1, 2, 3]\n",
        "modify_list(my_list)\n",
        "print(\"Outside function:\", my_list)"
      ],
      "metadata": {
        "colab": {
          "base_uri": "https://localhost:8080/"
        },
        "id": "XIJJuOUQP_dW",
        "outputId": "64f80885-824e-4364-e2e9-8cf464f2673a"
      },
      "execution_count": 125,
      "outputs": [
        {
          "output_type": "stream",
          "name": "stdout",
          "text": [
            "Inside function: [1, 2, 3, 4]\n",
            "Outside function: [1, 2, 3, 4]\n"
          ]
        }
      ]
    },
    {
      "cell_type": "code",
      "source": [
        "# 8. Write a program to demonstrate the use of logical operators\n",
        "a = 10\n",
        "b = 20\n",
        "print(a>b or a<b)\n",
        "print(a>b and a<b)\n"
      ],
      "metadata": {
        "colab": {
          "base_uri": "https://localhost:8080/"
        },
        "id": "lo9gs77EQObb",
        "outputId": "15084599-4a86-4a5b-b77f-4ec693bd0a24"
      },
      "execution_count": 56,
      "outputs": [
        {
          "output_type": "stream",
          "name": "stdout",
          "text": [
            "True\n",
            "False\n"
          ]
        }
      ]
    },
    {
      "cell_type": "code",
      "source": [
        "# 9. Write a Python program to convert user input from string to integer, float, and boolean types.\n",
        "a = \"abhishek\"\n",
        "type(a)\n",
        "\n",
        "print(int(a)) # show error because str not covert into int\n",
        "\n",
        "print(float(a)) # show error because str not covert into float\n",
        "\n",
        "print(bool(a)) # output is true\n"
      ],
      "metadata": {
        "colab": {
          "base_uri": "https://localhost:8080/"
        },
        "id": "y-PlVgC9SmNM",
        "outputId": "92ac314c-f2d7-44f9-9ab6-3f19c970b361"
      },
      "execution_count": 68,
      "outputs": [
        {
          "output_type": "stream",
          "name": "stdout",
          "text": [
            "True\n"
          ]
        }
      ]
    },
    {
      "cell_type": "code",
      "source": [
        "# 10. Write code to demonstrate type casting with list elements.\n",
        "list = [1, 5, 20, 50, 44]\n",
        "print(type(list))\n",
        "print(type(str(list)))\n"
      ],
      "metadata": {
        "colab": {
          "base_uri": "https://localhost:8080/"
        },
        "id": "iuoerkqoXJFi",
        "outputId": "713bac50-c901-4c31-b8ae-fe577c8aec26"
      },
      "execution_count": 88,
      "outputs": [
        {
          "output_type": "stream",
          "name": "stdout",
          "text": [
            "<class 'list'>\n",
            "<class 'str'>\n"
          ]
        }
      ]
    },
    {
      "cell_type": "code",
      "source": [
        "# 11. Write a program that checks if a number is positive, negative, or zero.\n",
        "#1\n",
        "a = 10\n",
        "if a<0:\n",
        "  print(\"negative\")\n",
        "elif a>0:\n",
        "    print(\"positive\")\n",
        "else:\n",
        "    print(\"zero\")\n",
        "#2\n",
        "a = -10\n",
        "if a<0:\n",
        "  print(\"negative\")\n",
        "elif a>0:\n",
        "    print(\"positive\")\n",
        "else:\n",
        "    print(\"zero\")\n"
      ],
      "metadata": {
        "colab": {
          "base_uri": "https://localhost:8080/"
        },
        "id": "ExRC_3pEaHsE",
        "outputId": "87961909-9396-4852-934d-cdd7ea9bc614"
      },
      "execution_count": 98,
      "outputs": [
        {
          "output_type": "stream",
          "name": "stdout",
          "text": [
            "positive\n",
            "negative\n"
          ]
        }
      ]
    },
    {
      "cell_type": "code",
      "source": [
        "# 12. Write a for loop to print numbers from 1 to 10.\n",
        "for i in range (1,10):\n",
        "  print(i)"
      ],
      "metadata": {
        "colab": {
          "base_uri": "https://localhost:8080/"
        },
        "id": "4phRpgyTglUr",
        "outputId": "9a21b5c2-9828-4eda-cf5f-18347396b42b"
      },
      "execution_count": 113,
      "outputs": [
        {
          "output_type": "stream",
          "name": "stdout",
          "text": [
            "1\n",
            "2\n",
            "3\n",
            "4\n",
            "5\n",
            "6\n",
            "7\n",
            "8\n",
            "9\n"
          ]
        }
      ]
    },
    {
      "cell_type": "code",
      "source": [
        "# 13. Write a Python program to find the sum of all even numbers between 1 and 50.\n",
        "for i in range(50):\n",
        "  if i % 2 == 0:\n",
        "    print(i)"
      ],
      "metadata": {
        "colab": {
          "base_uri": "https://localhost:8080/"
        },
        "id": "LJnoDcZShCXO",
        "outputId": "b8c7592c-e2da-43e4-8879-42e44ba2cad3"
      },
      "execution_count": 115,
      "outputs": [
        {
          "output_type": "stream",
          "name": "stdout",
          "text": [
            "0\n",
            "2\n",
            "4\n",
            "6\n",
            "8\n",
            "10\n",
            "12\n",
            "14\n",
            "16\n",
            "18\n",
            "20\n",
            "22\n",
            "24\n",
            "26\n",
            "28\n",
            "30\n",
            "32\n",
            "34\n",
            "36\n",
            "38\n",
            "40\n",
            "42\n",
            "44\n",
            "46\n",
            "48\n"
          ]
        }
      ]
    },
    {
      "cell_type": "code",
      "source": [
        "# 14. Write a program to reverse a string using a while loop.\n",
        "string = \"hello\"\n",
        "reversed_string = \"\"\n",
        "i = len(string) - 1\n",
        "\n",
        "while i >= 0:\n",
        "  reversed_string += string[i]\n",
        "  i -= 1\n",
        "\n",
        "print(\"Reversed string:\", reversed_string)"
      ],
      "metadata": {
        "colab": {
          "base_uri": "https://localhost:8080/"
        },
        "id": "A-JL2PfAi2NC",
        "outputId": "26f710a7-75e4-4596-b120-2350fe84526a"
      },
      "execution_count": 116,
      "outputs": [
        {
          "output_type": "stream",
          "name": "stdout",
          "text": [
            "Reversed string: olleh\n"
          ]
        }
      ]
    },
    {
      "cell_type": "code",
      "source": [
        "# 15. Write a Python program to calculate the factorial of a number provided by the user using a while loop.\n",
        "num = int(input(\"Enter a number: \"))\n",
        "\n",
        "factorial = 1\n",
        "if num < 0:\n",
        "  print(\"Factorial is not defined for negative numbers.\")\n",
        "elif num == 0:\n",
        "  print(\"Factorial of 0 is 1\")\n",
        "else:\n",
        "  i = 1\n",
        "  while i <= num:\n",
        "    factorial *= i\n",
        "    i += 1\n",
        "  print(\"Factorial of\", num, \"is\", factorial)"
      ],
      "metadata": {
        "colab": {
          "base_uri": "https://localhost:8080/"
        },
        "id": "KiT5jstlkl3G",
        "outputId": "2323e9ab-970d-4b18-afc3-540d98024f43"
      },
      "execution_count": 119,
      "outputs": [
        {
          "output_type": "stream",
          "name": "stdout",
          "text": [
            "Enter a number: 12\n",
            "Factorial of 12 is 479001600\n"
          ]
        }
      ]
    }
  ]
}